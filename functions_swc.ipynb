{
 "cells": [
  {
   "cell_type": "markdown",
   "metadata": {},
   "source": [
    "## Hypothetical\n",
    "\n",
    "I want to take the mean squared error of a series of 5 numbers: 5, 10, 15, 20, and 25. \n",
    "\n",
    "1. Take the mean of the numbers\n",
    "2. Compute (x - mean)<sup>2</sup>\n",
    "3. Find the sum of these numbers.\n",
    "4. Divide by the number of numbers.\n",
    "\n",
    "Let's do this in Python:"
   ]
  },
  {
   "cell_type": "code",
   "execution_count": null,
   "metadata": {},
   "outputs": [],
   "source": [
    "import numpy as np\n",
    "mean_ex = np.mean([5,10,15,20,25])\n",
    "se1 = (5 - mean_ex)**2\n",
    "se2 = (10 - mean_ex)**2\n",
    "se3 = (15 - mean_ex)**2\n",
    "se4 = (20 - mean_ex)**2\n",
    "se5 = (25 - mean_ex)**2\n",
    "\n",
    "MSE = (se1 + se2 + se3 + se4 + se5) / 5\n",
    "MSE"
   ]
  },
  {
   "cell_type": "markdown",
   "metadata": {},
   "source": [
    "There has to be a better way to do this! What if we had 60 numbers? One way would be be to use array syntax, which you can see below. \n",
    "\n",
    "But what if we wanted to also use different \"means\" based on different groupings of our samples? How can we tell Python how to process the numbers?"
   ]
  },
  {
   "cell_type": "code",
   "execution_count": null,
   "metadata": {},
   "outputs": [],
   "source": [
    "samples = [5,10,15,20,25]\n",
    "mean_ex = np.mean([5,10,15,20,25])\n",
    "(samples - mean_ex)**2"
   ]
  },
  {
   "cell_type": "markdown",
   "metadata": {},
   "source": [
    "## Functions in Python\n",
    "\n",
    "* Meant to help keep us sane\n",
    "    * it's difficult to process a long sequence of tasks or a repetitive task\n",
    "* Systematic application of a set of rules to some input \n",
    "* _Encapsulation_ means that once we write a function, we can treat it just as one line/one unit\n",
    "\n",
    "We use **def** to signal to `Python` that we are starting a function."
   ]
  },
  {
   "cell_type": "code",
   "execution_count": 9,
   "metadata": {},
   "outputs": [],
   "source": [
    "def writegreeting():\n",
    "    print(\"Hello\")"
   ]
  },
  {
   "cell_type": "markdown",
   "metadata": {},
   "source": [
    "***Three Ingredients***: `def`, colon, parentheses (and a `Python`ic indent). You need to run a Python function before it is accessible."
   ]
  },
  {
   "cell_type": "code",
   "execution_count": 10,
   "metadata": {},
   "outputs": [
    {
     "name": "stdout",
     "output_type": "stream",
     "text": [
      "Hello\n"
     ]
    }
   ],
   "source": [
    "writegreeting()"
   ]
  },
  {
   "attachments": {},
   "cell_type": "markdown",
   "metadata": {},
   "source": [
    "_Arguments_ are used as inputs to a function, and are specified in parentheses."
   ]
  },
  {
   "cell_type": "code",
   "execution_count": 11,
   "metadata": {},
   "outputs": [
    {
     "name": "stdout",
     "output_type": "stream",
     "text": [
      "2.5\n"
     ]
    }
   ],
   "source": [
    "def meanofnumbers(number_vector):\n",
    "    sumofnumbers = 0\n",
    "    for number in number_vector:\n",
    "        sumofnumbers += number\n",
    "        \n",
    "    print(sumofnumbers / len(number_vector))\n",
    "    \n",
    "meanofnumbers([1,2,3,4])"
   ]
  },
  {
   "cell_type": "markdown",
   "metadata": {},
   "source": [
    "The **return** value of a function specifies what the function should give back when you run it. You can assign the return value of a function to the variable. "
   ]
  },
  {
   "cell_type": "code",
   "execution_count": 13,
   "metadata": {},
   "outputs": [
    {
     "name": "stdout",
     "output_type": "stream",
     "text": [
      "2.5\n",
      "2.5\n"
     ]
    }
   ],
   "source": [
    "def meanofnumbers(number_vector):\n",
    "    sumofnumbers = 0\n",
    "    for number in number_vector:\n",
    "        sumofnumbers += number\n",
    "        \n",
    "    return (sumofnumbers / len(number_vector))\n",
    "\n",
    "print(meanofnumbers([1,2,3,4]))\n",
    "mean_of_numbers = meanofnumbers([1,2,3,4])\n",
    "print(mean_of_numbers)"
   ]
  },
  {
   "cell_type": "markdown",
   "metadata": {},
   "source": [
    "Functions can have multiple return values."
   ]
  },
  {
   "cell_type": "code",
   "execution_count": 15,
   "metadata": {},
   "outputs": [
    {
     "name": "stdout",
     "output_type": "stream",
     "text": [
      "4\n"
     ]
    }
   ],
   "source": [
    "def meanofnumbers(number_vector):\n",
    "    sumofnumbers = 0\n",
    "    for number in number_vector:\n",
    "        sumofnumbers += number\n",
    "        \n",
    "    return (sumofnumbers / len(number_vector)), len(number_vector)\n",
    "\n",
    "mean_of_numbers, len_of_numbers = meanofnumbers([1,2,3,4])\n",
    "print(len_of_numbers)"
   ]
  },
  {
   "cell_type": "markdown",
   "metadata": {},
   "source": [
    "**Encapsulate an If-Statement/Print Block**\n",
    "\n",
    "Sometimes, we use **conditionals** to test what category our data falls into. For example, I might want to look at people's ages and classify them based on their generation, loosely:\n",
    "\n",
    "- 25 and under: Generation Z\n",
    "- 25 to 40: Millennials (Generation Y)\n",
    "- 41 to 56: Generation X\n",
    "- 56 to 75: Baby Boomer\n",
    "- 75 to 92: Silent Generation\n",
    "- 92+: Greatest Generation\n",
    "\n",
    "How can we check this systematically? We have a sample of 20 people and we want to associate each person's name with their generation."
   ]
  },
  {
   "cell_type": "markdown",
   "metadata": {},
   "source": [
    "### Zoom Poll: What is the shortest way to do this?\n",
    "\n",
    "* Use a `for` loop and check what category each falls into - **Check Mark** ✅\n",
    "* Write an `if` statement and just copy it however many times you need - **Red X** ❌\n",
    "* Use an array of the people's ages and check the generation using a function - **Go Slower** ⏪\n",
    "* Manually assign the labels to people - **Go Faster** ⏩"
   ]
  },
  {
   "cell_type": "markdown",
   "metadata": {},
   "source": [
    "### Zoom Poll: What is the fastest way to do this?\n",
    "\n",
    "* Use a `for` loop and check what category each falls into - **Check Mark** ✅\n",
    "* Write an `if` statement and just copy it however many times you need - **Red X** ❌\n",
    "* Use an array of the people's ages and check the generation using a function - **Go Slower** ⏪\n",
    "* Manually assign the labels to people - **Go Faster** ⏩"
   ]
  },
  {
   "cell_type": "code",
   "execution_count": null,
   "metadata": {},
   "outputs": [],
   "source": [
    "\n",
    "\n",
    "\n",
    "\n",
    "\n",
    "\n",
    "\n",
    "\n",
    "\n",
    "\n",
    "\n",
    "\n",
    "\n",
    "\n",
    "\n",
    "\n"
   ]
  },
  {
   "cell_type": "code",
   "execution_count": null,
   "metadata": {},
   "outputs": [],
   "source": [
    "import timeit\n",
    "\n",
    "## Option 1: Using a `for` loop\n",
    "def solution1():\n",
    "    ## this is where our code starts\n",
    "    x = list(range(0,81,20)) ## here is where we would put our list of ages - this is just a sample\n",
    "    names = [\"Your Name Here\"] * len(x) ## same for the names!\n",
    "    \n",
    "    generations = []\n",
    "    for curr_age in x:\n",
    "        if curr_age < 25:\n",
    "            generations.append(\"Generation Z\")\n",
    "        elif curr_age < 40:\n",
    "            generations.append(\"Generation Y\")\n",
    "        elif curr_age < 56:\n",
    "            generations.append(\"Generation X\")\n",
    "        elif curr_age < 75:\n",
    "            generations.append(\"Baby Boomer\")\n",
    "        elif curr_age < 92:\n",
    "            generations.append(\"Silent Generation\")\n",
    "        else:\n",
    "            generations.append(\"Greatest Generation\")\n",
    "            \n",
    "    return(generations)\n",
    "            \n",
    "print(solution1())\n",
    "timeit.timeit(solution1,number=100)"
   ]
  },
  {
   "cell_type": "code",
   "execution_count": null,
   "metadata": {},
   "outputs": [],
   "source": [
    "## Option 2: Using a repeated \"if\" statement\n",
    "def solution2():\n",
    "    ## this is where our code starts\n",
    "    x = list(range(0,81,10)) ## here is where we would put our list of ages - this is just a sample\n",
    "    names = [\"Your Name Here\"] * len(x) ## same for the names!\n",
    "    \n",
    "    generations = []\n",
    "    \n",
    "    curr_age = x[0]\n",
    "    if curr_age < 25:\n",
    "        generations.append(\"Generation Z\")\n",
    "    elif curr_age < 40:\n",
    "        generations.append(\"Generation Y\")\n",
    "    elif curr_age < 56:\n",
    "        generations.append(\"Generation X\")\n",
    "    elif curr_age < 75:\n",
    "        generations.append(\"Baby Boomer\")\n",
    "    elif curr_age < 92:\n",
    "        generations.append(\"Silent Generation\")\n",
    "    else:\n",
    "        generations.append(\"Greatest Generation\")\n",
    "    \n",
    "    curr_age = x[1]\n",
    "    if curr_age < 25:\n",
    "        generations.append(\"Generation Z\")\n",
    "    elif curr_age < 40:\n",
    "        generations.append(\"Generation Y\")\n",
    "    elif curr_age < 56:\n",
    "        generations.append(\"Generation X\")\n",
    "    elif curr_age < 75:\n",
    "        generations.append(\"Baby Boomer\")\n",
    "    elif curr_age < 92:\n",
    "        generations.append(\"Silent Generation\")\n",
    "    else:\n",
    "        generations.append(\"Greatest Generation\")\n",
    "        \n",
    "    curr_age = x[2]\n",
    "    if curr_age < 25:\n",
    "        generations.append(\"Generation Z\")\n",
    "    elif curr_age < 40:\n",
    "        generations.append(\"Generation Y\")\n",
    "    elif curr_age < 56:\n",
    "        generations.append(\"Generation X\")\n",
    "    elif curr_age < 75:\n",
    "        generations.append(\"Baby Boomer\")\n",
    "    elif curr_age < 92:\n",
    "        generations.append(\"Silent Generation\")\n",
    "    else:\n",
    "        generations.append(\"Greatest Generation\")\n",
    "        \n",
    "        \n",
    "    curr_age = x[3]\n",
    "    if curr_age < 25:\n",
    "        generations.append(\"Generation Z\")\n",
    "    elif curr_age < 40:\n",
    "        generations.append(\"Generation Y\")\n",
    "    elif curr_age < 56:\n",
    "        generations.append(\"Generation X\")\n",
    "    elif curr_age < 75:\n",
    "        generations.append(\"Baby Boomer\")\n",
    "    elif curr_age < 92:\n",
    "        generations.append(\"Silent Generation\")\n",
    "    else:\n",
    "        generations.append(\"Greatest Generation\")\n",
    "      \n",
    "    curr_age = x[4]\n",
    "    if curr_age < 25:\n",
    "        generations.append(\"Generation Z\")\n",
    "    elif curr_age < 40:\n",
    "        generations.append(\"Generation Y\")\n",
    "    elif curr_age < 56:\n",
    "        generations.append(\"Generation X\")\n",
    "    elif curr_age < 75:\n",
    "        generations.append(\"Baby Boomer\")\n",
    "    elif curr_age < 92:\n",
    "        generations.append(\"Silent Generation\")\n",
    "    else:\n",
    "        generations.append(\"Greatest Generation\")\n",
    "            \n",
    "    return(generations)\n",
    "            \n",
    "print(solution2())\n",
    "timeit.timeit(solution2,number=100)"
   ]
  },
  {
   "cell_type": "code",
   "execution_count": null,
   "metadata": {},
   "outputs": [],
   "source": [
    "def generation_checker(curr_age):    \n",
    "    if curr_age < 25:\n",
    "        return(\"Generation Z\")\n",
    "    elif curr_age < 40:\n",
    "        return(\"Generation Y\")\n",
    "    elif curr_age < 56:\n",
    "        return(\"Generation X\")\n",
    "    elif curr_age < 75:\n",
    "        return(\"Baby Boomer\")\n",
    "    elif curr_age < 92:\n",
    "        return(\"Silent Generation\")\n",
    "    else:\n",
    "        return(\"Greatest Generation\")\n",
    "\n",
    "## Option 3: Using a separated, encapsulated function\n",
    "def solution3():\n",
    "    ## this is where our code starts\n",
    "    x = list(range(0,90,1)) ## here is where we would put our list of ages - this is just a sample\n",
    "    names = [\"Your Name Here\"] * len(x) ## same for the names!\n",
    "    \n",
    "    generations = []\n",
    "    for curr_age in x:\n",
    "        generations.append(generation_checker(curr_age))\n",
    "    \n",
    "    return(generations)\n",
    "\n",
    "## Option 4: Using a separated, encapsulated function and list comprehension\n",
    "def solution4():\n",
    "    ## this is where our code starts\n",
    "    x = list(range(0,90,1)) ## here is where we would put our list of ages - this is just a sample\n",
    "    names = [\"Your Name Here\"] * len(x) ## same for the names!\n",
    "    \n",
    "    generations = [generation_checker(curr_age) for curr_age in x]\n",
    "    return(generations)\n",
    "            \n",
    "print(solution3() == solution4())\n",
    "print(\"The timing of the 3rd solution is:\", timeit.timeit(solution3,number=100))\n",
    "print(\"The timing of the 4th solution is:\", timeit.timeit(solution4,number=100))"
   ]
  },
  {
   "cell_type": "markdown",
   "metadata": {},
   "source": [
    "Why did we order the `if` statement that way?\n",
    "\n",
    "What would happen if we checked if the age was less than 40 first?"
   ]
  },
  {
   "cell_type": "markdown",
   "metadata": {},
   "source": [
    "**Your Turn**: \"Encapsulating Data Analysis\" activity, in breakout rooms."
   ]
  },
  {
   "cell_type": "code",
   "execution_count": 17,
   "metadata": {},
   "outputs": [],
   "source": [
    "import pandas as pd\n",
    "\n",
    "df = pd.read_csv(\"../python-novice-gapminder/data/gapminder_gdp_asia.csv\",index_col=0)\n",
    "japan = df.loc[\"Japan\"]"
   ]
  },
  {
   "cell_type": "code",
   "execution_count": 23,
   "metadata": {},
   "outputs": [
    {
     "name": "stdout",
     "output_type": "stream",
     "text": [
      "gdpPercap_198\n"
     ]
    }
   ],
   "source": [
    "year = 1983\n",
    "gdp_decade = 'gdpPercap_' + str(year // 10)\n",
    "print(gdp_decade)\n",
    "avg = (japan.loc[gdp_decade + \"2\"] + japan.loc[gdp_decade + \"7\"]) / 2"
   ]
  },
  {
   "cell_type": "code",
   "execution_count": 20,
   "metadata": {},
   "outputs": [],
   "source": [
    "#egg sizing machinery prints a label\n",
    "def checkeggsize(mass):\n",
    "    if(mass>=90):\n",
    "        return \"warning: egg might be dirty\"\n",
    "    elif(mass>=85):\n",
    "        return \"jumbo\"\n",
    "    elif(mass>=70):\n",
    "        return \"large\"\n",
    "    elif(mass<70 and mass>=55):\n",
    "        return \"medium\"\n",
    "    elif(mass<50):\n",
    "        return \"too light, probably spoiled\"\n",
    "    else:\n",
    "        return \"small\""
   ]
  },
  {
   "cell_type": "code",
   "execution_count": 22,
   "metadata": {},
   "outputs": [
    {
     "data": {
      "text/plain": [
       "'warning: egg might be dirty'"
      ]
     },
     "execution_count": 22,
     "metadata": {},
     "output_type": "execute_result"
    }
   ],
   "source": [
    "checkeggsize(90)"
   ]
  },
  {
   "cell_type": "code",
   "execution_count": null,
   "metadata": {},
   "outputs": [],
   "source": []
  }
 ],
 "metadata": {
  "kernelspec": {
   "display_name": "Python 3",
   "language": "python",
   "name": "python3"
  },
  "language_info": {
   "codemirror_mode": {
    "name": "ipython",
    "version": 3
   },
   "file_extension": ".py",
   "mimetype": "text/x-python",
   "name": "python",
   "nbconvert_exporter": "python",
   "pygments_lexer": "ipython3",
   "version": "3.7.3"
  }
 },
 "nbformat": 4,
 "nbformat_minor": 2
}
